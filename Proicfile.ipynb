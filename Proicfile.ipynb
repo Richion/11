{
  "nbformat": 4,
  "nbformat_minor": 0,
  "metadata": {
    "colab": {
      "name": "Proicfile",
      "provenance": [],
      "authorship_tag": "ABX9TyN9OJIBMpj7PcjvlTEz6b38",
      "include_colab_link": true
    },
    "kernelspec": {
      "name": "python3",
      "display_name": "Python 3"
    }
  },
  "cells": [
    {
      "cell_type": "markdown",
      "metadata": {
        "id": "view-in-github",
        "colab_type": "text"
      },
      "source": [
        "<a href=\"https://colab.research.google.com/github/Richion/11/blob/master/Proicfile.ipynb\" target=\"_parent\"><img src=\"https://colab.research.google.com/assets/colab-badge.svg\" alt=\"Open In Colab\"/></a>"
      ]
    },
    {
      "cell_type": "code",
      "metadata": {
        "id": "2dodmBbdLANY"
      },
      "source": [
        "web gunicorn main:app"
      ],
      "execution_count": null,
      "outputs": []
    }
  ]
}