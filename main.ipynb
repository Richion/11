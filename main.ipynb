{
  "nbformat": 4,
  "nbformat_minor": 0,
  "metadata": {
    "colab": {
      "name": "Untitled1.ipynb",
      "private_outputs": true,
      "provenance": [],
      "authorship_tag": "ABX9TyMkX4JcXsXU5hsrBhsUdqrW",
      "include_colab_link": true
    },
    "kernelspec": {
      "name": "python3",
      "display_name": "Python 3"
    },
    "accelerator": "GPU"
  },
  "cells": [
    {
      "cell_type": "markdown",
      "metadata": {
        "id": "view-in-github",
        "colab_type": "text"
      },
      "source": [
        "<a href=\"https://colab.research.google.com/github/Richion/11/blob/master/main.ipynb\" target=\"_parent\"><img src=\"https://colab.research.google.com/assets/colab-badge.svg\" alt=\"Open In Colab\"/></a>"
      ]
    },
    {
      "cell_type": "code",
      "metadata": {
        "id": "Q1eqmXsP8a5A"
      },
      "source": [
        "from flask import Flask, request, abort\n",
        "import requests\n",
        "from linebot import (\n",
        "    LineBotApi, WebhookHandler\n",
        ")\n",
        "from linebot.exceptions import (\n",
        "    InvalidSignatureError\n",
        ")\n",
        "from linebot.models import (\n",
        "    MessageEvent, TextMessage, TextSendMessage,\n",
        ")\n",
        "from bs4 import BeautifulSoup\n",
        "\n",
        "\n",
        "app = Flask(__name__)\n",
        "\n",
        "line_bot_api = LineBotApi('Ean1Xdkkpjr6JRgPC5j5cZeoZkLbDwWB78+xXZYAcCFLwRok8wqNsQ6Cf4xfM+WOw25PPK6KKGXGrc7gGa1Q19ObvrXBKREq5o2JPV8h3CXF4naM9NBJID07UlrKrP8PHnPGKW2FRASHdqcWlje/sAdB04t89/1O/w1cDnyilFU=')\n",
        "handler = WebhookHandler('08ed3b014b9d96754789a1d594c3e423')\n",
        "\n",
        "\n",
        "@app.route(\"/callback\", methods=['POST'])\n",
        "def callback():\n",
        "    # get X-Line-Signature header value\n",
        "    signature = request.headers['X-Line-Signature']\n",
        "\n",
        "    # get request body as text\n",
        "    body = request.get_data(as_text=True)\n",
        "    app.logger.info(\"Request body: \" + body)\n",
        "\n",
        "    # handle webhook body\n",
        "    try:\n",
        "        handler.handle(body, signature)\n",
        "    except InvalidSignatureError:\n",
        "        abort(400)\n",
        "\n",
        "    return 'OK'\n",
        "\n",
        "def movie():\n",
        "    res = requests.get('https://oursogo.com/forum-174-1.html')\n",
        "    soup = BeautifulSoup(res.text,'html.parser')\n",
        "    title= soup.find_all('a',{'class':'xst'})\n",
        "    content = \"\"\n",
        "    #print(title)\n",
        "    content = []\n",
        "    for i, data in enumerate(title):\n",
        "        if i > 10:\n",
        "            break\n",
        "        content.append(data.text)\n",
        "    return content\n",
        "\n",
        "@handler.add(MessageEvent, message=TextMessage)\n",
        "def handle_message(event):\n",
        "    if event.message.text == \"抽\":\n",
        "        content = movie()\n",
        "        line_bot_api.reply_message(\n",
        "            event.reply_token,\n",
        "            TextSendMessage(text='\\n'.join(content)))\n",
        "        return 0\n",
        "\n",
        "if __name__ == \"__main__\":\n",
        "    app.run()"
      ],
      "execution_count": null,
      "outputs": []
    },
    {
      "cell_type": "code",
      "metadata": {
        "id": "uD52V1dH8gGn"
      },
      "source": [
        "!pip install line-bot-sdk"
      ],
      "execution_count": null,
      "outputs": []
    }
  ]
}